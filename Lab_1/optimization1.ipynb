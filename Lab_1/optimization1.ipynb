{
  "nbformat": 4,
  "nbformat_minor": 0,
  "metadata": {
    "colab": {
      "name": "optimization1_1",
      "provenance": [],
      "collapsed_sections": []
    },
    "kernelspec": {
      "name": "python3",
      "display_name": "Python 3"
    }
  },
  "cells": [
    {
      "cell_type": "markdown",
      "metadata": {
        "id": "XqKL-BwxaDS5"
      },
      "source": [
        "**Ледяев А.А. 19.Б05-пу**\n"
      ]
    },
    {
      "cell_type": "code",
      "metadata": {
        "id": "3B2CPc_SS8ub"
      },
      "source": [
        "import math\n",
        "import numpy as np\n",
        "import matplotlib.pyplot as plt\n",
        "from time import time\n",
        "import timeit"
      ],
      "execution_count": null,
      "outputs": []
    },
    {
      "cell_type": "markdown",
      "metadata": {
        "id": "I4giV19BaV8P"
      },
      "source": [
        "**Задание погрешности, функции, графика.**"
      ]
    },
    {
      "cell_type": "code",
      "metadata": {
        "id": "dOBsTCD4TAeu"
      },
      "source": [
        "EPS = (1.e-7) * 5 "
      ],
      "execution_count": null,
      "outputs": []
    },
    {
      "cell_type": "code",
      "metadata": {
        "id": "BQ9YOh0ucEcu"
      },
      "source": [
        "count_call = 0"
      ],
      "execution_count": null,
      "outputs": []
    },
    {
      "cell_type": "code",
      "metadata": {
        "id": "tNbs2F2dTDyE"
      },
      "source": [
        "A = len(\"Ледяев\")"
      ],
      "execution_count": null,
      "outputs": []
    },
    {
      "cell_type": "code",
      "metadata": {
        "id": "utYZk30MTHW5"
      },
      "source": [
        "B = len(\"Антон\")"
      ],
      "execution_count": null,
      "outputs": []
    },
    {
      "cell_type": "code",
      "metadata": {
        "id": "STOang9BTIq5",
        "colab": {
          "base_uri": "https://localhost:8080/"
        },
        "outputId": "72c8b220-bc2f-44d5-b4f6-74cdb05448b2"
      },
      "source": [
        "print(\"Исследуемая функция: e^({0}*x) - log({1}, x)\".format(A, B))"
      ],
      "execution_count": null,
      "outputs": [
        {
          "output_type": "stream",
          "text": [
            "Исследуемая функция: e^(6*x) - log(5, x)\n"
          ],
          "name": "stdout"
        }
      ]
    },
    {
      "cell_type": "code",
      "metadata": {
        "id": "3jslImNMTSRm"
      },
      "source": [
        "RESULTS = dict.fromkeys(['Пассивный поиск', 'Дихотомия', 'Золотое сечение', 'Фиббоначчи',\n",
        "'Касательные', 'Ньютон-Рафсон', 'Секущие' ])"
      ],
      "execution_count": null,
      "outputs": []
    },
    {
      "cell_type": "code",
      "metadata": {
        "id": "ntRCsJk2Tanp"
      },
      "source": [
        "def func_in_method(x):\n",
        "  global count_call\n",
        "  count_call = count_call + 1\n",
        "  if x==0:\n",
        "    res = np.inf\n",
        "  else:\n",
        "    res = math.exp(A*x) - math.log(x,B)\n",
        "  return res"
      ],
      "execution_count": null,
      "outputs": []
    },
    {
      "cell_type": "code",
      "metadata": {
        "id": "BL4P0Evqlr3A"
      },
      "source": [
        "def func(x):\n",
        "  if x==0:\n",
        "    res = np.inf\n",
        "  else:\n",
        "    res = math.exp(A*x) - math.log(x,B)\n",
        "  return res"
      ],
      "execution_count": null,
      "outputs": []
    },
    {
      "cell_type": "code",
      "metadata": {
        "id": "oNBXiHxbTvpx"
      },
      "source": [
        "def diff_func(x):\n",
        "  global count_call\n",
        "  count_call = count_call + 1\n",
        "  if x==0:\n",
        "    res = -np.inf\n",
        "  else:\n",
        "    res = -1 / (math.log(B) * x) + A * math.exp(A * x)\n",
        "  return res"
      ],
      "execution_count": null,
      "outputs": []
    },
    {
      "cell_type": "code",
      "metadata": {
        "id": "XGRcioT3UBgP"
      },
      "source": [
        "def diff_2_func(x):\n",
        "  global count_call\n",
        "  count_call = count_call + 1\n",
        "  if x==0:\n",
        "    res = np.inf\n",
        "  else: \n",
        "    res = 1 / (math.log(B) * x ** 2) + A ** 2 * math.exp(A * x)\n",
        "  return res\n"
      ],
      "execution_count": null,
      "outputs": []
    },
    {
      "cell_type": "code",
      "metadata": {
        "id": "pyp4BTz-US8G"
      },
      "source": [
        "def func_show():\n",
        "  x=np.arange(1e-2,0.1,1e-5)\n",
        "\n",
        "  fig = plt.figure(figsize=(14,12),dpi = 80, facecolor='w', edgecolor='k')\n",
        "  plt.title(\"Функция y(x)\")\n",
        "  plt.xlabel(\"x\")\n",
        "  plt.ylabel(\"y\")\n",
        "  plt.grid()\n",
        "  plt.plot(x,func(x))"
      ],
      "execution_count": null,
      "outputs": []
    },
    {
      "cell_type": "markdown",
      "metadata": {
        "id": "52CCxih0aklP"
      },
      "source": [
        "**Метод пассивного поиска.**"
      ]
    },
    {
      "cell_type": "code",
      "metadata": {
        "id": "ZvTYm1ZXUxFY"
      },
      "source": [
        "def passive_search():\n",
        "  t1 = t2 = 0\n",
        "  t1 = time()\n",
        "  EPS_ps = (1.e-6) * 5\n",
        "  a = 0\n",
        "  b = 1\n",
        "  k = int((b-a)/EPS_ps)\n",
        "  print(\"необходимо {0} отрезков для достижения заданной точности в пассивном поиске\".format(k))\n",
        "  x = np.arange(a,b,(b-a)/k)\n",
        "  y_min = np.inf\n",
        "  x_min = np.inf\n",
        "  for i in x:\n",
        "    f = func_in_method(i)\n",
        "    if f < y_min:\n",
        "      y_min = f \n",
        "      x_min = i \n",
        "    if (count_call % 5000 == 0):\n",
        "      print(x_min,y_min,f, count_call)  \n",
        "\n",
        "  print(\"x= {0}, y = {1}\".format('%.5f' % x_min, '%.3f' % y_min))\n",
        "  t2 = time()\n",
        "\n",
        "  RESULTS['Пассивный поиск'] = (t2-t1)*10**3\n",
        "  return (count_call)"
      ],
      "execution_count": null,
      "outputs": []
    },
    {
      "cell_type": "markdown",
      "metadata": {
        "id": "74Enp4zoanyP"
      },
      "source": [
        "**Метод дихотомии.**"
      ]
    },
    {
      "cell_type": "code",
      "metadata": {
        "id": "RJNPJ1bgWSB2"
      },
      "source": [
        "def dichotomy():\n",
        "  t1 = t2 = 0\n",
        "  t1 = time()\n",
        "\n",
        "  a = 0\n",
        "  b = 1\n",
        "  middle = 0.5\n",
        "  delta = EPS\n",
        "  k = 0\n",
        "  while abs(b - a) > EPS:\n",
        "    print(a,b, count_call)\n",
        "    middle = (b+a)/2\n",
        "    if func_in_method(middle + delta) > func_in_method(middle - delta):\n",
        "      b = middle\n",
        "    else:\n",
        "      a = middle\n",
        "    k += 1\n",
        "  print(a,b,count_call)\n",
        "  print(\"необходимо {0} итераций для достижения заданной точности в методе дихотомии\".format(k))\n",
        "  print(\"x = {0} y = {1}\".format('%.5f'% middle, '%.3f'% func(middle)))\n",
        "\n",
        "  t2 = time()\n",
        "  RESULTS['Дихотомия'] = (t2-t1) * 10**3\n",
        "\n",
        "  return count_call\n"
      ],
      "execution_count": null,
      "outputs": []
    },
    {
      "cell_type": "markdown",
      "metadata": {
        "id": "lIEuVKaUapne"
      },
      "source": [
        "**Метод золотого сечения.**"
      ]
    },
    {
      "cell_type": "code",
      "metadata": {
        "id": "85z5UIzBI80O"
      },
      "source": [
        "def golden_ratio():\n",
        "  t1 = t2 = 0\n",
        "  a = 0\n",
        "  b = 1\n",
        "  k = 0 \n",
        "  phi = (math.sqrt(5)-1)/2\n",
        "\n",
        "  t1 = time()\n",
        "  d = a + (b-a)*phi\n",
        "  c = b - (b-a)*phi\n",
        "  fc = func_in_method(c)\n",
        "  fd = func_in_method(d)\n",
        "  while abs(b - a) > 2*EPS:\n",
        "    print(a,b,count_call)\n",
        "    if fc < fd:\n",
        "      b = d\n",
        "      d = c\n",
        "      c = b - (b - a)*phi\n",
        "      fd = fc\n",
        "      fc = func_in_method(c)\n",
        "    else:\n",
        "      a = c\n",
        "      c = d\n",
        "      d = a + (b-a)*phi\n",
        "      fc = fd\n",
        "      fd = func_in_method(d)\n",
        "    k += 1\n",
        "  print(a,b,count_call)\n",
        "  print(\"необходимо {0} итераций для достижения заданной точности в методе золотого сечения\".format(k))\n",
        "  print(\"x = {0} y = {1}\".format('%.5f'%c,'%.3f'%func(c)))\n",
        "\n",
        "  t2 = time()\n",
        "  RESULTS['Золотое сечение'] = (t2-t1) * 10**3\n",
        "  return count_call"
      ],
      "execution_count": null,
      "outputs": []
    },
    {
      "cell_type": "markdown",
      "metadata": {
        "id": "aBqotg9uasjl"
      },
      "source": [
        "**Метод Фиббоначчи.**"
      ]
    },
    {
      "cell_type": "code",
      "metadata": {
        "id": "1bRXtgJyNJlj"
      },
      "source": [
        "def Fibbonacci():\n",
        "  t1 = t2 = 0\n",
        "\n",
        "  a = 0 \n",
        "  b = 1\n",
        "  \n",
        "  def fibbonacci(max_i, f = 1, s =1):\n",
        "    while f < max_i:\n",
        "      yield f\n",
        "      f, s = s, f + s \n",
        "  fibs = []\n",
        "  n = -2\n",
        "  for f in fibbonacci((b-a)/EPS):\n",
        "    fibs.append(f)\n",
        "    n += 1\n",
        "  t1 = time()\n",
        "\n",
        "  i = 1\n",
        "  c = a + (b-a) * fibs[n-i]/fibs[n+2-i]\n",
        "  d = a + (b-a) * fibs[n+1-i]/fibs[n+2-i]\n",
        "  fc = func_in_method(c)\n",
        "  fd = func_in_method(d)\n",
        "  for i in range(2,n):\n",
        "    print (a,b,count_call)\n",
        "    if fc < fd:\n",
        "      b = d \n",
        "      d = c\n",
        "      c = a + (b-a)*fibs[n-i] / fibs[n+2-i]\n",
        "      fd = fc\n",
        "      fc = func_in_method(c)\n",
        "    else:\n",
        "      a = c\n",
        "      c = d \n",
        "      d = a + (b-a)*fibs[n+1-i]/fibs[n+2-i]\n",
        "      fc = fd\n",
        "      fd = func_in_method(d)\n",
        "  print(a,b,count_call)\n",
        "  print(\"необходимо {0} итераций для достижения заданной точности в методе Фиббоначи\".format(n - 2))\n",
        "  print(\"x = {0} y = {1}\".format('%.5f' % c, '%.3f' % func(c)))\n",
        "\n",
        "  t2 = time()\n",
        "\n",
        "  RESULTS['Фиббоначчи'] = (t2-t1) * 10**3\n",
        "  return count_call\n"
      ],
      "execution_count": null,
      "outputs": []
    },
    {
      "cell_type": "markdown",
      "metadata": {
        "id": "BwBI8_Z3avee"
      },
      "source": [
        "**Метод касательных.**"
      ]
    },
    {
      "cell_type": "code",
      "metadata": {
        "id": "UuSw6y6oOb3L"
      },
      "source": [
        "def tangents():\n",
        "  t1 = t2 = 0\n",
        "  t1 = time()\n",
        "  a = 1.e-3\n",
        "  b = 0.25\n",
        "  k = 0\n",
        "  df_a = diff_func(a)\n",
        "  df_b = diff_func(b)\n",
        "  fa = func_in_method(a)\n",
        "  fb = func_in_method(b)\n",
        "\n",
        "  while abs(b-a) > EPS:\n",
        "    print(a,b,count_call)\n",
        "    c = (fb - fa + df_a*a - df_b*b)/(df_a - df_b)\n",
        "    df_c = diff_func(c)\n",
        "    if df_c > 0:\n",
        "      b = c \n",
        "      df_b = df_c \n",
        "      fb = func_in_method(c)\n",
        "    elif df_c < 0:\n",
        "      a = c \n",
        "      df_a = df_c \n",
        "      fa = func_in_method(c)\n",
        "    else:\n",
        "      break\n",
        "    k += 1\n",
        "  print(a,b,count_call)\n",
        "  print(\"необходимо {0} итераций для достижения заданной точности в методе касательных\".format(k))\n",
        "  print(\"x = {0} y = {1}\".format('%.5f' % c, '%.3f' % func(c)))\n",
        "\n",
        "  t2 = time()\n",
        "  RESULTS['Касательные'] = (t2-t1) * 10**3\n",
        "  return count_call\n"
      ],
      "execution_count": null,
      "outputs": []
    },
    {
      "cell_type": "markdown",
      "metadata": {
        "id": "Xt5iNoHJa3l2"
      },
      "source": [
        "**Метод Ньютона-Рафсона**"
      ]
    },
    {
      "cell_type": "code",
      "metadata": {
        "id": "_JZ2EWilPbz2"
      },
      "source": [
        "def Newton_Raphson():\n",
        "  t1 = t2 = 0\n",
        "  t1 = time()\n",
        "\n",
        "  c = 1.e-3\n",
        "  c_prev = np.inf\n",
        "  k = 0\n",
        "  d = diff_func(c)\n",
        "  while abs(c - c_prev) > EPS:\n",
        "    print(c,count_call)\n",
        "    c_prev, c = c, c - d / diff_2_func(c)\n",
        "    d = diff_func(c)\n",
        "    k += 1\n",
        "  print(c,count_call)\n",
        "  print(\"необходимо {0} итераций для достижения заданной точности в методе Нютона-Рафсона\".format(k))\n",
        "  print(\"x = {0} y = {1}\".format('%.5f' % c, '%.3f' % func(c)))\n",
        "\n",
        "  t2 = time()\n",
        "  print(t1,t2)\n",
        "  \n",
        "  RESULTS['Ньютон-Рафсон'] = (t2-t1) * 10**3\n",
        "  return count_call"
      ],
      "execution_count": null,
      "outputs": []
    },
    {
      "cell_type": "markdown",
      "metadata": {
        "id": "jcZ8Yl9UbPpm"
      },
      "source": [
        "**Метод секущих.**"
      ]
    },
    {
      "cell_type": "code",
      "metadata": {
        "id": "YpKz7ZzAQKWw"
      },
      "source": [
        "def secants():\n",
        "  t1 = t2 = 0\n",
        "  t1 = time()\n",
        "\n",
        "  a1 = 1.e-3\n",
        "  a2 = 5* 1.e-3\n",
        "\n",
        "  k = 0\n",
        "  d1 = diff_func(a1)\n",
        "  d2 = diff_func(a2)\n",
        "\n",
        "  while abs(a2-a1) > EPS:\n",
        "    print(a1,a2,count_call)\n",
        "    a1, a2 = a2, a2 - (a2 - a1)/ (d2-d1)*d2\n",
        "    d1 = d2\n",
        "    d2 = diff_func(a2)\n",
        "    k += 1\n",
        "  print(a1,a2,count_call)\n",
        "  print(\"необходимо {0} итераций для достижения заданной точности в методе секущих\".format(k))\n",
        "  print(\"x = {0} y = {1}\".format('%.5f' % a1, '%.3f' % func(a1)))\n",
        "\n",
        "  t2 = time()\n",
        "  \n",
        "  RESULTS['Секущие'] = (t2-t1) * 10**3\n",
        "  return count_call"
      ],
      "execution_count": null,
      "outputs": []
    },
    {
      "cell_type": "markdown",
      "metadata": {
        "id": "0SdzZZYibRkA"
      },
      "source": [
        "**Вывод результатов с методом пассивного поиска.**"
      ]
    },
    {
      "cell_type": "code",
      "metadata": {
        "id": "-VAClj9oUb1D"
      },
      "source": [
        "def res_show():\n",
        "  fig, ax = plt.subplots()\n",
        "\n",
        "  for x, y in zip(RESULTS.items(), calls):\n",
        "    ax.bar(x[0],y)\n",
        "  \n",
        "  plt.xlabel('Методы')\n",
        "  plt.ylabel('Количество вызовов функции')\n",
        "\n",
        "  ax.set_facecolor('seashell')\n",
        "  fig.set_facecolor('floralwhite')\n",
        "  fig.set_figwidth(10)\n",
        "  fig.set_figheight(5)\n",
        "\n",
        "  rects = ax.patches\n",
        "\n",
        "  for rect, x in zip(rects, RESULTS.items()):\n",
        "    height = rect.get_height()\n",
        "    ax.text(rect.get_x() + rect.get_width() / 2, height, \"{:.1f}ms\".format(x[1]), ha='center', va='bottom')\n",
        "  \n",
        "  plt.show()"
      ],
      "execution_count": null,
      "outputs": []
    },
    {
      "cell_type": "markdown",
      "metadata": {
        "id": "00bve69dbYAm"
      },
      "source": [
        "**Вывод результатов без метода пассивного поиска.**"
      ]
    },
    {
      "cell_type": "code",
      "metadata": {
        "id": "K_Kt7pJjQnqw"
      },
      "source": [
        "def res_show2():\n",
        "  fig, ax = plt.subplots()\n",
        "  RESULTS.pop('Пассивный поиск')\n",
        "  calls.pop(0)\n",
        "  labels = [i for i in calls]\n",
        "\n",
        "  for x,y in zip(RESULTS.items(),calls):\n",
        "    ax.bar(x[0],y)\n",
        "  \n",
        "  plt.ylabel('Количество вызовов функции')\n",
        "  plt.xlabel('Методы')\n",
        "\n",
        "  ax.set_facecolor('seashell')\n",
        "  fig.set_facecolor('floralwhite')\n",
        "  fig.set_figwidth(10)\n",
        "  fig.set_figheight(5)\n",
        "\n",
        "  rects = ax.patches\n",
        "\n",
        "  for rect, x in zip(rects, RESULTS.items()):\n",
        "    height = rect.get_height()\n",
        "    ax.text(rect.get_x() + rect.get_width() / 2, height, \"{:.3f}ms\".format(x[1]), ha='center', va='bottom')\n",
        "\n",
        "  plt.show()"
      ],
      "execution_count": null,
      "outputs": []
    },
    {
      "cell_type": "code",
      "metadata": {
        "colab": {
          "base_uri": "https://localhost:8080/",
          "height": 806
        },
        "id": "NfU_akZsRemA",
        "outputId": "53c53f72-fe91-4006-e474-f61f3dddc908"
      },
      "source": [
        "func = np.vectorize(func)\n",
        "func_show() "
      ],
      "execution_count": null,
      "outputs": [
        {
          "output_type": "display_data",
          "data": {
            "image/png": "[encoded data removed]",
            "text/plain": [
              "<Figure size 1120x960 with 1 Axes>"
            ]
          },
          "metadata": {
            "tags": []
          }
        }
      ]
    },
    {
      "cell_type": "markdown",
      "metadata": {
        "id": "JofydYaabtam"
      },
      "source": [
        "**Выполнение методов и подсчет итераций.**"
      ]
    },
    {
      "cell_type": "code",
      "metadata": {
        "id": "EZbpvgNURlOH",
        "colab": {
          "base_uri": "https://localhost:8080/"
        },
        "outputId": "83704a7f-7b3b-4eb9-b10c-14dc5f346aa2"
      },
      "source": [
        "calls = []\n",
        "print(\"Пассивный поиск\")\n",
        "a = passive_search()\n",
        "calls.append(a)\n",
        "print(\"Использовалось {0} вызовов функции\".format(a))\n",
        "\n",
        "count_call = 0 \n",
        "print(\"Дихотомия\")\n",
        "a = dichotomy()\n",
        "calls.append(a)\n",
        "print(\"Использовалось {0} вызовов функции\".format(a))\n",
        "\n",
        "count_call = 0 \n",
        "print(\"Золотое сечение\")\n",
        "a = golden_ratio()\n",
        "calls.append(a)\n",
        "print(\"Использовалось {0} вызовов функции\".format(a))\n",
        "\n",
        "count_call = 0\n",
        "print(\"Метод Фиббоначчи\")\n",
        "a = Fibbonacci()\n",
        "calls.append(a)\n",
        "print(\"Использовалось {0} вызовов функции\".format(a))\n",
        "\n",
        "count_call = 0\n",
        "print(\"Метода касательных\")\n",
        "a = tangents()\n",
        "calls.append(a)\n",
        "print(\"Использовалось {0} вызовов функции\".format(a))\n",
        "\n",
        "count_call = 0\n",
        "print(\"Метод Ньютона-Рафсона\")\n",
        "a = Newton_Raphson()\n",
        "calls.append(a)\n",
        "print(\"Использовалось {0} вызовов функции\".format(a))\n",
        "\n",
        "count_call = 0\n",
        "print(\"Метод секущих\")\n",
        "a = secants()\n",
        "calls.append(a)\n",
        "print(\"Использовалось {0} вызовов функции\".format(a))"
      ],
      "execution_count": null,
      "outputs": [
        {
          "output_type": "stream",
          "text": [
            "Пассивный поиск\n",
            "необходимо 200000 отрезков для достижения заданной точности в пассивном поиске\n",
            "0.024995000000000003 3.4539533418592683 3.4539533418592683 5000\n",
            "0.049995000000000005 3.2112335651663297 3.2112335651663297 10000\n",
            "0.06861 3.174074421727923 3.177730040274308 15000\n",
            "0.06861 3.174074421727923 3.2527717632432585 20000\n",
            "0.06861 3.174074421727923 3.4089910356794597 25000\n",
            "0.06861 3.174074421727923 3.6382969573409056 30000\n",
            "0.06861 3.174074421727923 3.9405508615938767 35000\n",
            "0.06861 3.174074421727923 4.320032854290437 40000\n",
            "0.06861 3.174074421727923 4.784140902511495 45000\n",
            "0.06861 3.174074421727923 5.342920164652441 50000\n",
            "0.06861 3.174074421727923 6.008968489044864 55000\n",
            "0.06861 3.174074421727923 6.797546696967276 60000\n",
            "0.06861 3.174074421727923 7.7268233152503765 65000\n",
            "0.06861 3.174074421727923 8.818224968446387 70000\n",
            "0.06861 3.174074421727923 10.096882972808094 75000\n",
            "0.06861 3.174074421727923 11.592176898972395 80000\n",
            "0.06861 3.174074421727923 13.338382131676044 85000\n",
            "0.06861 3.174074421727923 15.375432970551572 90000\n",
            "0.06861 3.174074421727923 17.749816629079035 95000\n",
            "0.06861 3.174074421727923 20.515617137572185 100000\n",
            "0.06861 3.174074421727923 23.735731951622174 105000\n",
            "0.06861 3.174074421727923 27.483288215957725 110000\n",
            "0.06861 3.174074421727923 31.84329029484348 115000\n",
            "0.06861 3.174074421727923 36.91453549644044 120000\n",
            "0.06861 3.174074421727923 42.81184103165663 125000\n",
            "0.06861 3.174074421727923 49.668632308785504 130000\n",
            "0.06861 3.174074421727923 57.6399508408237 135000\n",
            "0.06861 3.174074421727923 66.90594952207624 140000\n",
            "0.06861 3.174074421727923 77.67595403137409 145000\n",
            "0.06861 3.174074421727923 90.19318189099764 150000\n",
            "0.06861 3.174074421727923 104.74022554247797 155000\n",
            "0.06861 3.174074421727923 121.64542302809716 160000\n",
            "0.06861 3.174074421727923 141.29025987909426 165000\n",
            "0.06861 3.174074421727923 164.11796905983832 170000\n",
            "0.06861 3.174074421727923 190.64352282592372 175000\n",
            "0.06861 3.174074421727923 221.46524173230475 180000\n",
            "0.06861 3.174074421727923 257.27828248269714 185000\n",
            "0.06861 3.174074421727923 298.89030866542447 190000\n",
            "0.06861 3.174074421727923 347.2396976284827 195000\n",
            "0.06861 3.174074421727923 403.416693917154 200000\n",
            "x= 0.06861, y = 3.174\n",
            "Использовалось 200000 вызовов функции\n",
            "Дихотомия\n",
            "0 1 0\n",
            "0 0.5 2\n",
            "0 0.25 4\n",
            "0 0.125 6\n",
            "0.0625 0.125 8\n",
            "0.0625 0.09375 10\n",
            "0.0625 0.078125 12\n",
            "0.0625 0.0703125 14\n",
            "0.06640625 0.0703125 16\n",
            "0.068359375 0.0703125 18\n",
            "0.068359375 0.0693359375 20\n",
            "0.068359375 0.06884765625 22\n",
            "0.068603515625 0.06884765625 24\n",
            "0.068603515625 0.0687255859375 26\n",
            "0.068603515625 0.06866455078125 28\n",
            "0.068603515625 0.068634033203125 30\n",
            "0.068603515625 0.0686187744140625 32\n",
            "0.068603515625 0.06861114501953125 34\n",
            "0.06860733032226562 0.06861114501953125 36\n",
            "0.06860923767089844 0.06861114501953125 38\n",
            "0.06861019134521484 0.06861114501953125 40\n",
            "0.06861019134521484 0.06861066818237305 42\n",
            "необходимо 21 итераций для достижения заданной точности в методе дихотомии\n",
            "x = 0.06861 y = 3.174\n",
            "Использовалось 42 вызовов функции\n",
            "Золотое сечение\n",
            "0 1 2\n",
            "0 0.6180339887498949 3\n",
            "0 0.3819660112501051 4\n",
            "0 0.2360679774997897 5\n",
            "0 0.1458980337503154 6\n",
            "0 0.09016994374947424 7\n",
            "0.03444185374863302 0.09016994374947424 8\n",
            "0.05572809000084118 0.09016994374947424 9\n",
            "0.05572809000084118 0.07701432625304938 10\n",
            "0.06385870875662453 0.07701432625304938 11\n",
            "0.06385870875662453 0.07198932751240789 12\n",
            "0.06696432877176639 0.07198932751240789 13\n",
            "0.06696432877176639 0.07006994878690825 14\n",
            "0.06815057006140862 0.07006994878690825 15\n",
            "0.06815057006140862 0.06933681135105085 16\n",
            "0.06815057006140862 0.06888370749726605 17\n",
            "0.06843060364348122 0.06888370749726605 18\n",
            "0.06843060364348122 0.0687106372255538 19\n",
            "0.06853756695384157 0.0687106372255538 20\n",
            "0.06853756695384157 0.0686445302642019 21\n",
            "0.06857842330285001 0.0686445302642019 22\n",
            "0.06857842330285001 0.06861927965185846 23\n",
            "0.068594029039515 0.06861927965185846 24\n",
            "0.06860367391519344 0.06861927965185846 25\n",
            "0.06860367391519344 0.0686133187908719 26\n",
            "0.06860735792988534 0.0686133187908719 27\n",
            "0.06860963477618001 0.0686133187908719 28\n",
            "0.06860963477618001 0.06861191162247465 29\n",
            "0.06860963477618001 0.06861104194457725 30\n",
            "0.06861017226667986 0.06861104194457725 31\n",
            "необходимо 29 итераций для достижения заданной точности в методе золотого сечения\n",
            "x = 0.06861 y = 3.174\n",
            "Использовалось 31 вызовов функции\n",
            "Метод Фиббоначчи\n",
            "0 1 2\n",
            "0 0.6180339887496481 3\n",
            "0 0.3819660112503519 4\n",
            "0 0.23606797749929623 5\n",
            "0 0.1458980337510557 6\n",
            "0 0.09016994374824051 7\n",
            "0.03444185374542532 0.09016994374824051 8\n",
            "0.055728090002815193 0.09016994374824051 9\n",
            "0.055728090002815193 0.07701432626020506 10\n",
            "0.0638587087721696 0.07701432626020506 11\n",
            "0.0638587087721696 0.07198932754152403 12\n",
            "0.06696432882284299 0.07198932754152403 13\n",
            "0.06696432882284299 0.07006994887351636 14\n",
            "0.06815057020550871 0.07006994887351636 15\n",
            "0.06815057020550871 0.06933681158817444 16\n",
            "0.06815057020550871 0.06888370749085065 17\n",
            "0.06843060339352686 0.06888370749085065 18\n",
            "0.06843060339352686 0.06871063658154501 19\n",
            "0.06853756567223936 0.06871063658154501 20\n",
            "0.06853756567223936 0.06864452795095187 21\n",
            "0.06857841932035871 0.06864452795095187 22\n",
            "0.06857841932035871 0.06861927296847808 23\n",
            "0.06859401798600429 0.06861927296847808 24\n",
            "0.0686036743028325 0.06861927296847808 25\n",
            "0.0686036743028325 0.06861333061966071 26\n",
            "0.06860738827084335 0.06861333061966071 27\n",
            "0.06860961665164987 0.06861333061966071 28\n",
            "0.06860961665164987 0.06861184503245638 29\n",
            "необходимо 27 итераций для достижения заданной точности в методе Фиббоначи\n",
            "x = 0.06861 y = 3.174\n",
            "Использовалось 29 вызовов функции\n",
            "Метода касательных\n",
            "0.001 0.25 4\n",
            "0.010429053083002283 0.25 6\n",
            "0.06717859665716394 0.25 8\n",
            "0.06717859665716394 0.1601032105409669 10\n",
            "0.06717859665716394 0.11018996985847744 12\n",
            "0.06717859665716394 0.0870435515928126 14\n",
            "0.06717859665716394 0.07662385528163228 16\n",
            "0.06717859665716394 0.07177342016142872 18\n",
            "0.06717859665716394 0.0694435729900891 20\n",
            "0.06830293219812285 0.0694435729900891 22\n",
            "0.06830293219812285 0.06887121915614497 24\n",
            "0.06858656668113443 0.06887121915614497 26\n",
            "0.06858656668113443 0.06872876574626498 28\n",
            "0.06858656668113443 0.06865763441083121 30\n",
            "0.06858656668113443 0.06862209259405089 32\n",
            "0.0686043276494287 0.06862209259405089 34\n",
            "0.0686043276494287 0.06861320962487877 36\n",
            "0.06860876851334463 0.06861320962487877 38\n",
            "0.06860876851334463 0.06861098903814149 40\n",
            "0.0686098787667945 0.06861098903814149 42\n",
            "0.0686104338994173 0.06861098903814149 44\n",
            "0.0686104338994173 0.06861071146539832 46\n",
            "необходимо 21 итераций для достижения заданной точности в методе касательных\n",
            "x = 0.06861 y = 3.174\n",
            "Использовалось 46 вызовов функции\n",
            "Метод Ньютона-Рафсона\n",
            "0.001 1\n",
            "0.001990227539766196 3\n",
            "0.003941292480801293 5\n",
            "0.007725504058121961 7\n",
            "0.014821620772426373 9\n",
            "0.027153019075738465 11\n",
            "0.045027884962425505 13\n",
            "0.06181938773438189 15\n",
            "0.0681357614995059 17\n",
            "0.06860846417418401 19\n",
            "0.06861060834933215 21\n",
            "0.06861060839278074 23\n",
            "необходимо 11 итераций для достижения заданной точности в методе Нютона-Рафсона\n",
            "x = 0.06861 y = 3.174\n",
            "1606916821.997987 1606916821.9996836\n",
            "Использовалось 23 вызовов функции\n",
            "Метод секущих\n",
            "0.001 0.005 2\n",
            "0.005 0.005949966212835154 3\n",
            "0.005949966212835154 0.010643880862674059 4\n",
            "0.010643880862674059 0.015921600341352215 5\n",
            "0.015921600341352215 0.024671901965104236 6\n",
            "0.024671901965104236 0.03590617305876246 7\n",
            "0.03590617305876246 0.049151485717560686 8\n",
            "0.049151485717560686 0.060651472243255 9\n",
            "0.060651472243255 0.06688289118859958 10\n",
            "0.06688289118859958 0.06847222680792882 11\n",
            "0.06847222680792882 0.06860832091631655 12\n",
            "0.06860832091631655 0.06861060539867732 13\n",
            "0.06861060539867732 0.06861060839271602 14\n",
            "необходимо 12 итераций для достижения заданной точности в методе секущих\n",
            "x = 0.06861 y = 3.174\n",
            "Использовалось 14 вызовов функции\n"
          ],
          "name": "stdout"
        }
      ]
    },
    {
      "cell_type": "markdown",
      "metadata": {
        "id": "VSVZoyYQb1fU"
      },
      "source": [
        "**Итоговые графики.**"
      ]
    },
    {
      "cell_type": "code",
      "metadata": {
        "colab": {
          "base_uri": "https://localhost:8080/",
          "height": 334
        },
        "id": "Aui3_2kDTatH",
        "outputId": "af554161-839f-4766-d99d-264eb1bc06ec"
      },
      "source": [
        "res_show()"
      ],
      "execution_count": null,
      "outputs": [
        {
          "output_type": "display_data",
          "data": {
            "image/png": "[encoded data removed]",
            "text/plain": [
              "<Figure size 720x360 with 1 Axes>"
            ]
          },
          "metadata": {
            "tags": []
          }
        }
      ]
    },
    {
      "cell_type": "code",
      "metadata": {
        "colab": {
          "base_uri": "https://localhost:8080/"
        },
        "id": "JKM-Vyl6UQ_o",
        "outputId": "aae7fa74-c792-410d-eb9a-7cceb1e209b4"
      },
      "source": [
        "print(RESULTS)"
      ],
      "execution_count": null,
      "outputs": [
        {
          "output_type": "stream",
          "text": [
            "{'Пассивный поиск': 312.26253509521484, 'Дихотомия': 3.1538009643554688, 'Золотое сечение': 6.788015365600586, 'Фиббоначчи': 4.173040390014648, 'Касательные': 3.2701492309570312, 'Ньютон-Рафсон': 1.6965866088867188, 'Секущие': 1.8265247344970703}\n"
          ],
          "name": "stdout"
        }
      ]
    },
    {
      "cell_type": "code",
      "metadata": {
        "colab": {
          "base_uri": "https://localhost:8080/",
          "height": 334
        },
        "id": "nVofl_s-WIs6",
        "outputId": "ef82f755-ff2f-4dcb-ab80-fccee87e53ff"
      },
      "source": [
        "res_show2()"
      ],
      "execution_count": null,
      "outputs": [
        {
          "output_type": "display_data",
          "data": {
            "image/png": "[encoded data removed]",
            "text/plain": [
              "<Figure size 720x360 with 1 Axes>"
            ]
          },
          "metadata": {
            "tags": []
          }
        }
      ]
    },
    {
      "cell_type": "markdown",
      "metadata": {
        "id": "DiEDlU9cb-OW"
      },
      "source": [
        "Самыми эффективными по времени и количеству вызовов функций оказались методы Ньютона-Рафсона и секущих. "
      ]
    },
    {
      "cell_type": "code",
      "metadata": {
        "id": "mPWPoc6vWMM6"
      },
      "source": [
        ""
      ],
      "execution_count": null,
      "outputs": []
    }
  ]
}